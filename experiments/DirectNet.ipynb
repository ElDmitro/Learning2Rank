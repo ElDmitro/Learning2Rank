{
 "cells": [
  {
   "cell_type": "code",
   "execution_count": 1,
   "metadata": {
    "scrolled": true
   },
   "outputs": [
    {
     "name": "stderr",
     "output_type": "stream",
     "text": [
      "/Library/Frameworks/Python.framework/Versions/3.6/lib/python3.6/site-packages/tensorflow/python/framework/dtypes.py:469: FutureWarning: Passing (type, 1) or '1type' as a synonym of type is deprecated; in a future version of numpy, it will be understood as (type, (1,)) / '(1,)type'.\n",
      "  _np_qint8 = np.dtype([(\"qint8\", np.int8, 1)])\n",
      "/Library/Frameworks/Python.framework/Versions/3.6/lib/python3.6/site-packages/tensorflow/python/framework/dtypes.py:470: FutureWarning: Passing (type, 1) or '1type' as a synonym of type is deprecated; in a future version of numpy, it will be understood as (type, (1,)) / '(1,)type'.\n",
      "  _np_quint8 = np.dtype([(\"quint8\", np.uint8, 1)])\n",
      "/Library/Frameworks/Python.framework/Versions/3.6/lib/python3.6/site-packages/tensorflow/python/framework/dtypes.py:471: FutureWarning: Passing (type, 1) or '1type' as a synonym of type is deprecated; in a future version of numpy, it will be understood as (type, (1,)) / '(1,)type'.\n",
      "  _np_qint16 = np.dtype([(\"qint16\", np.int16, 1)])\n",
      "/Library/Frameworks/Python.framework/Versions/3.6/lib/python3.6/site-packages/tensorflow/python/framework/dtypes.py:472: FutureWarning: Passing (type, 1) or '1type' as a synonym of type is deprecated; in a future version of numpy, it will be understood as (type, (1,)) / '(1,)type'.\n",
      "  _np_quint16 = np.dtype([(\"quint16\", np.uint16, 1)])\n",
      "/Library/Frameworks/Python.framework/Versions/3.6/lib/python3.6/site-packages/tensorflow/python/framework/dtypes.py:473: FutureWarning: Passing (type, 1) or '1type' as a synonym of type is deprecated; in a future version of numpy, it will be understood as (type, (1,)) / '(1,)type'.\n",
      "  _np_qint32 = np.dtype([(\"qint32\", np.int32, 1)])\n",
      "/Library/Frameworks/Python.framework/Versions/3.6/lib/python3.6/site-packages/tensorflow/python/framework/dtypes.py:476: FutureWarning: Passing (type, 1) or '1type' as a synonym of type is deprecated; in a future version of numpy, it will be understood as (type, (1,)) / '(1,)type'.\n",
      "  np_resource = np.dtype([(\"resource\", np.ubyte, 1)])\n",
      "/Library/Frameworks/Python.framework/Versions/3.6/lib/python3.6/importlib/_bootstrap.py:219: RuntimeWarning: compiletime version 3.5 of module 'tensorflow.python.framework.fast_tensor_util' does not match runtime version 3.6\n",
      "  return f(*args, **kwds)\n"
     ]
    }
   ],
   "source": [
    "from __future__ import print_function\n",
    "\n",
    "import sys\n",
    "import numpy as np\n",
    "from sklearn.preprocessing import QuantileTransformer\n",
    "from sklearn.model_selection import train_test_split\n",
    "\n",
    "sys.path.append('..')\n",
    "import tensorflow as tf\n",
    "from supplementary_code_direct_ranker.DirectRanker import directRanker\n",
    "from supplementary_code_direct_ranker.helpers import readData, nDCGScorer_cls, MAP_cls"
   ]
  },
  {
   "cell_type": "code",
   "execution_count": 2,
   "metadata": {},
   "outputs": [],
   "source": [
    "x_train, y_train, q_train = readData(data_path=\"OHSUMED_TRAIN.txt\", binary=False, \n",
    "                                     at=10, number_features=25, bin_cutoff=1.5, cut_zeros=False)\n",
    "x_test, y_test, q_test = readData(data_path=\"OHSUMED_TEST.txt\", binary=False, \n",
    "                                  at=10, number_features=25, bin_cutoff=1.5, cut_zeros=False)"
   ]
  },
  {
   "cell_type": "code",
   "execution_count": 3,
   "metadata": {},
   "outputs": [],
   "source": [
    "def lambda_cost(nn, y0):\n",
    "    return tf.reduce_mean(tf.log(1+tf.exp(nn))-nn)\n",
    "\n",
    "\n",
    "# Load directRanker, train, and test\n",
    "dr = directRanker(\n",
    "    feature_activation=tf.nn.tanh,\n",
    "    ranking_activation=tf.nn.tanh,\n",
    "    # max_steps=10000,\n",
    "    # For debugging\n",
    "    #cost=lambda_cost,\n",
    "    max_steps=10000,\n",
    "    print_step=500,\n",
    "    start_batch_size=3,\n",
    "    end_batch_size=5,\n",
    "    start_qids=20,\n",
    "    end_qids=100,\n",
    "    feature_bias=True,\n",
    "    hidden_layers=[100, 50, 5]\n",
    ")"
   ]
  },
  {
   "cell_type": "code",
   "execution_count": 4,
   "metadata": {},
   "outputs": [
    {
     "name": "stdout",
     "output_type": "stream",
     "text": [
      "INFO:tensorflow:Scale of 0 disables regularizer.\n",
      "step: 0, value: 1.1983919143676758, samples: 3, queries: 20\n",
      "step: 500, value: 0.8622041940689087, samples: 3, queries: 21\n",
      "step: 1000, value: 0.824661910533905, samples: 3, queries: 23\n",
      "step: 1500, value: 0.7897867560386658, samples: 3, queries: 25\n",
      "step: 2000, value: 0.8631294369697571, samples: 3, queries: 27\n",
      "step: 2500, value: 0.8872365355491638, samples: 3, queries: 29\n",
      "step: 3000, value: 0.7855363488197327, samples: 3, queries: 32\n",
      "step: 3500, value: 0.8341662287712097, samples: 3, queries: 35\n",
      "step: 4000, value: 0.7485103607177734, samples: 3, queries: 38\n",
      "step: 4500, value: 0.6176104545593262, samples: 3, queries: 41\n",
      "step: 5000, value: 0.6630043387413025, samples: 3, queries: 44\n",
      "step: 5500, value: 0.6010100841522217, samples: 3, queries: 48\n",
      "step: 6000, value: 0.5183827877044678, samples: 4, queries: 52\n",
      "step: 6500, value: 0.5566627383232117, samples: 4, queries: 56\n",
      "step: 7000, value: 0.5442885160446167, samples: 4, queries: 61\n",
      "step: 7500, value: 0.6109805703163147, samples: 4, queries: 66\n",
      "step: 8000, value: 0.5698860287666321, samples: 4, queries: 72\n",
      "step: 8500, value: 0.5381161570549011, samples: 4, queries: 78\n",
      "step: 9000, value: 0.5599309802055359, samples: 4, queries: 85\n",
      "step: 9500, value: 0.495930939912796, samples: 4, queries: 92\n"
     ]
    }
   ],
   "source": [
    "dr.fit(x_train, y_train, ranking=True)"
   ]
  },
  {
   "cell_type": "code",
   "execution_count": 25,
   "metadata": {},
   "outputs": [],
   "source": [
    "prediction = []\n",
    "ideal_rank = []\n",
    "for i in range(len(x_test)):\n",
    "    pred_q = dr.predict_proba(x_test[i])\n",
    "    \n",
    "    sort_idx = np.argsort(np.concatenate(pred_q))\n",
    "    sorted_list = y_test[i][sort_idx][::-1] #по мнению модели\n",
    "    yref = sorted(y_test[i], reverse=True) #идеальное ранжирование для запроса\n",
    "    \n",
    "    prediction.append(sorted_list)\n",
    "    ideal_rank.append(yref)"
   ]
  },
  {
   "cell_type": "code",
   "execution_count": 30,
   "metadata": {},
   "outputs": [],
   "source": [
    "prediction = [x.flatten() for x in prediction]"
   ]
  }
 ],
 "metadata": {
  "kernelspec": {
   "display_name": "Python 3",
   "language": "python",
   "name": "python3"
  },
  "language_info": {
   "codemirror_mode": {
    "name": "ipython",
    "version": 3
   },
   "file_extension": ".py",
   "mimetype": "text/x-python",
   "name": "python",
   "nbconvert_exporter": "python",
   "pygments_lexer": "ipython3",
   "version": "3.6.3"
  }
 },
 "nbformat": 4,
 "nbformat_minor": 2
}
