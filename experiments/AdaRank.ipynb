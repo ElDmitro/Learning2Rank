{
 "cells": [
  {
   "cell_type": "markdown",
   "metadata": {},
   "source": [
    "## Import"
   ]
  },
  {
   "cell_type": "code",
   "execution_count": 1,
   "metadata": {},
   "outputs": [],
   "source": [
    "import os\n",
    "import sys\n",
    "import itertools"
   ]
  },
  {
   "cell_type": "code",
   "execution_count": 2,
   "metadata": {},
   "outputs": [],
   "source": [
    "import numpy as np\n",
    "import pandas as pd"
   ]
  },
  {
   "cell_type": "code",
   "execution_count": 3,
   "metadata": {},
   "outputs": [],
   "source": [
    "module_path = os.path.abspath(os.path.join('..', 'src'))\n",
    "if module_path not in sys.path:\n",
    "    sys.path.append(module_path)\n",
    "    \n",
    "import utils\n",
    "import metrics\n",
    "from models.adaRank import AdaRank"
   ]
  },
  {
   "cell_type": "markdown",
   "metadata": {},
   "source": [
    "## Utils"
   ]
  },
  {
   "cell_type": "markdown",
   "metadata": {},
   "source": [
    "## Constants"
   ]
  },
  {
   "cell_type": "code",
   "execution_count": 4,
   "metadata": {},
   "outputs": [],
   "source": [
    "DATA_PATH = 'OHSUMED.csv'"
   ]
  },
  {
   "cell_type": "code",
   "execution_count": 5,
   "metadata": {},
   "outputs": [],
   "source": [
    "TEST_SIZE = 0.1\n",
    "TRAIN_SIZE = 1 - TEST_SIZE"
   ]
  },
  {
   "cell_type": "markdown",
   "metadata": {},
   "source": [
    "## Data processing"
   ]
  },
  {
   "cell_type": "code",
   "execution_count": 6,
   "metadata": {},
   "outputs": [],
   "source": [
    "documents = pd.read_csv(DATA_PATH)\n",
    "\n",
    "features_columns = np.array([col for col in documents.columns if col.startswith('feat')])"
   ]
  },
  {
   "cell_type": "code",
   "execution_count": 7,
   "metadata": {
    "scrolled": true
   },
   "outputs": [
    {
     "data": {
      "text/html": [
       "<div>\n",
       "<style scoped>\n",
       "    .dataframe tbody tr th:only-of-type {\n",
       "        vertical-align: middle;\n",
       "    }\n",
       "\n",
       "    .dataframe tbody tr th {\n",
       "        vertical-align: top;\n",
       "    }\n",
       "\n",
       "    .dataframe thead th {\n",
       "        text-align: right;\n",
       "    }\n",
       "</style>\n",
       "<table border=\"1\" class=\"dataframe\">\n",
       "  <thead>\n",
       "    <tr style=\"text-align: right;\">\n",
       "      <th></th>\n",
       "      <th>relevent_val</th>\n",
       "      <th>qid</th>\n",
       "      <th>feat1</th>\n",
       "      <th>feat2</th>\n",
       "      <th>feat3</th>\n",
       "      <th>feat4</th>\n",
       "      <th>feat5</th>\n",
       "      <th>feat6</th>\n",
       "      <th>feat7</th>\n",
       "      <th>feat8</th>\n",
       "      <th>...</th>\n",
       "      <th>feat17</th>\n",
       "      <th>feat18</th>\n",
       "      <th>feat19</th>\n",
       "      <th>feat20</th>\n",
       "      <th>feat21</th>\n",
       "      <th>feat22</th>\n",
       "      <th>feat23</th>\n",
       "      <th>feat24</th>\n",
       "      <th>feat25</th>\n",
       "      <th>doc_id</th>\n",
       "    </tr>\n",
       "  </thead>\n",
       "  <tbody>\n",
       "    <tr>\n",
       "      <td>0</td>\n",
       "      <td>2.0</td>\n",
       "      <td>1</td>\n",
       "      <td>3.0</td>\n",
       "      <td>2.079442</td>\n",
       "      <td>0.272727</td>\n",
       "      <td>0.261034</td>\n",
       "      <td>37.330565</td>\n",
       "      <td>11.431241</td>\n",
       "      <td>37.29975</td>\n",
       "      <td>1.138657</td>\n",
       "      <td>...</td>\n",
       "      <td>24.808785</td>\n",
       "      <td>0.393091</td>\n",
       "      <td>57.416517</td>\n",
       "      <td>3.294893</td>\n",
       "      <td>25.0231</td>\n",
       "      <td>3.219799</td>\n",
       "      <td>-3.87098</td>\n",
       "      <td>-3.90273</td>\n",
       "      <td>-3.87512</td>\n",
       "      <td>40626</td>\n",
       "    </tr>\n",
       "  </tbody>\n",
       "</table>\n",
       "<p>1 rows × 28 columns</p>\n",
       "</div>"
      ],
      "text/plain": [
       "   relevent_val  qid  feat1     feat2     feat3     feat4      feat5  \\\n",
       "0           2.0    1    3.0  2.079442  0.272727  0.261034  37.330565   \n",
       "\n",
       "       feat6     feat7     feat8  ...     feat17    feat18     feat19  \\\n",
       "0  11.431241  37.29975  1.138657  ...  24.808785  0.393091  57.416517   \n",
       "\n",
       "     feat20   feat21    feat22   feat23   feat24   feat25  doc_id  \n",
       "0  3.294893  25.0231  3.219799 -3.87098 -3.90273 -3.87512   40626  \n",
       "\n",
       "[1 rows x 28 columns]"
      ]
     },
     "execution_count": 7,
     "metadata": {},
     "output_type": "execute_result"
    }
   ],
   "source": [
    "documents.head(1)"
   ]
  },
  {
   "cell_type": "markdown",
   "metadata": {},
   "source": [
    "### train-test split"
   ]
  },
  {
   "cell_type": "code",
   "execution_count": 8,
   "metadata": {},
   "outputs": [],
   "source": [
    "qid_grid = documents.qid.unique()\n",
    "nqid = qid_grid.shape[0]\n",
    "\n",
    "qid_threshold = int(nqid * TRAIN_SIZE)\n",
    "train_qids = qid_grid[:qid_threshold]\n",
    "test_qids = qid_grid[qid_threshold:]\n",
    "\n",
    "assert(train_qids.shape[0] + test_qids.shape[0] == nqid)"
   ]
  },
  {
   "cell_type": "code",
   "execution_count": 9,
   "metadata": {},
   "outputs": [],
   "source": [
    "train_mask = np.in1d(documents.qid.values, train_qids)\n",
    "\n",
    "documents_train = documents.loc[train_mask]\n",
    "documents_test = documents.loc[~train_mask]"
   ]
  },
  {
   "cell_type": "markdown",
   "metadata": {},
   "source": [
    "### Construct listwise"
   ]
  },
  {
   "cell_type": "code",
   "execution_count": 10,
   "metadata": {},
   "outputs": [],
   "source": [
    "qids_train, X_train, y_train = utils.construct_listwise(\n",
    "    documents_train,\n",
    "    features_columns\n",
    ")\n",
    "\n",
    "qids_test, X_test, y_test = utils.construct_listwise(\n",
    "    documents_test,\n",
    "    features_columns\n",
    ")"
   ]
  },
  {
   "cell_type": "markdown",
   "metadata": {},
   "source": [
    "## AdaRank"
   ]
  },
  {
   "cell_type": "code",
   "execution_count": 11,
   "metadata": {},
   "outputs": [],
   "source": [
    "from models.adaMetrics import NDCGScorer"
   ]
  },
  {
   "cell_type": "code",
   "execution_count": 12,
   "metadata": {},
   "outputs": [],
   "source": [
    "adaRank = AdaRank(\n",
    "    verbose=True,\n",
    "    max_iter=5000,\n",
    "    tol=0.000001,\n",
    "    estop=10,\n",
    "    scorer=NDCGScorer(k=20)\n",
    ")"
   ]
  },
  {
   "cell_type": "code",
   "execution_count": 13,
   "metadata": {},
   "outputs": [
    {
     "name": "stderr",
     "output_type": "stream",
     "text": [
      "1\t0.46874805961843297\t9\t[0.30210799 0.54387771 0.86103913 0.34959007 0.82587332]\ttrain 0.4372\tvalid 0.4372\n",
      "2\t0.417035742268734\t7\t[0.34059647 0.54117935 0.73798885 0.34855266 0.78984982]\ttrain 0.4426\tvalid 0.4426\n",
      "3\t0.4170584820993096\t7\t[0.34059647 0.54117935 0.73798885 0.34855266 0.78984982]\ttrain 0.4426\tvalid 0.4426\n",
      "4\t0.4173050930402886\t7\t[0.34059647 0.54117935 0.73798885 0.34855266 0.78984982]\ttrain 0.4436\tvalid 0.4436\n",
      "5\t0.41720936079204307\t7\t[0.34059647 0.54117935 0.73798885 0.34855266 0.78984982]\ttrain 0.4437\tvalid 0.4437\n",
      "6\t0.41690706852307746\t7\t[0.34059647 0.54117935 0.73798885 0.34855266 0.78984982]\ttrain 0.4431\tvalid 0.4431\n",
      "7\t0.4171506074269735\t7\t[0.34059647 0.54117935 0.73798885 0.34855266 0.78984982]\ttrain 0.4456\tvalid 0.4456\n",
      "8\t0.4171560204812066\t7\t[0.34059647 0.54117935 0.73798885 0.34855266 0.78984982]\ttrain 0.4438\tvalid 0.4438\n",
      "9\t0.41702316557085356\t7\t[0.34059647 0.54117935 0.73798885 0.34855266 0.78984982]\ttrain 0.4423\tvalid 0.4423\n",
      "10\t0.4168563326315577\t7\t[0.34059647 0.54117935 0.73798885 0.34855266 0.78984982]\ttrain 0.4437\tvalid 0.4437\n",
      "11\t0.41667682228309044\t7\t[0.34059647 0.54117935 0.73798885 0.34855266 0.78984982]\ttrain 0.4457\tvalid 0.4457\n",
      "12\t0.41701090446908406\t7\t[0.34059647 0.54117935 0.73798885 0.34855266 0.78984982]\ttrain 0.4465\tvalid 0.4465\n",
      "13\t0.41688039615697003\t7\t[0.34059647 0.54117935 0.73798885 0.34855266 0.78984982]\ttrain 0.4447\tvalid 0.4447\n",
      "14\t0.41722098493872367\t7\t[0.34059647 0.54117935 0.73798885 0.34855266 0.78984982]\ttrain 0.4453\tvalid 0.4453\n",
      "15\t0.41711549163042205\t7\t[0.34059647 0.54117935 0.73798885 0.34855266 0.78984982]\ttrain 0.4440\tvalid 0.4440\n"
     ]
    },
    {
     "name": "stdout",
     "output_type": "stream",
     "text": [
      "CPU times: user 1.35 s, sys: 832 ms, total: 2.18 s\n",
      "Wall time: 562 ms\n"
     ]
    },
    {
     "name": "stderr",
     "output_type": "stream",
     "text": [
      "16\t0.41729442983617043\t7\t[0.34059647 0.54117935 0.73798885 0.34855266 0.78984982]\ttrain 0.4433\tvalid 0.4433\n",
      "17\t0.41728535722239923\t7\t[0.34059647 0.54117935 0.73798885 0.34855266 0.78984982]\ttrain 0.4430\tvalid 0.4430\n",
      "18\t0.4171270794550289\t7\t[0.34059647 0.54117935 0.73798885 0.34855266 0.78984982]\ttrain 0.4431\tvalid 0.4431\n",
      "19\t0.41707451178199173\t7\t[0.34059647 0.54117935 0.73798885 0.34855266 0.78984982]\ttrain 0.4424\tvalid 0.4424\n",
      "20\t0.4169430324181998\t7\t[0.34059647 0.54117935 0.73798885 0.34855266 0.78984982]\ttrain 0.4427\tvalid 0.4427\n",
      "21\t0.4169931983008315\t7\t[0.34059647 0.54117935 0.73798885 0.34855266 0.78984982]\ttrain 0.4418\tvalid 0.4418\n",
      "22\t0.4171660827637524\t7\t[0.34059647 0.54117935 0.73798885 0.34855266 0.78984982]\ttrain 0.4416\tvalid 0.4416\n"
     ]
    },
    {
     "data": {
      "text/plain": [
       "AdaRank(estop=10, max_iter=5000,\n",
       "        scorer=<models.adaMetrics.NDCGScorer object at 0x7f8fc0b3fd90>,\n",
       "        tol=1e-06, verbose=True)"
      ]
     },
     "execution_count": 13,
     "metadata": {},
     "output_type": "execute_result"
    }
   ],
   "source": [
    "%%time\n",
    "adaRank.fit(X_train, y_train, qids_train)"
   ]
  },
  {
   "cell_type": "code",
   "execution_count": 14,
   "metadata": {},
   "outputs": [],
   "source": [
    "predictions = adaRank.predict(X_test, qids_test)\n",
    "\n",
    "predictions = [np.array(predictions[start:end]) for start, end in utils.group_offsets(qids_test)]"
   ]
  },
  {
   "cell_type": "code",
   "execution_count": 15,
   "metadata": {},
   "outputs": [],
   "source": [
    "ranked_targets = []\n",
    "for prediction in predictions:\n",
    "    idx = np.argsort(prediction)[::-1]\n",
    "    \n",
    "    ranked_targets.append(y_test[idx])"
   ]
  },
  {
   "cell_type": "code",
   "execution_count": 16,
   "metadata": {},
   "outputs": [
    {
     "data": {
      "text/plain": [
       "0.18951331767445428"
      ]
     },
     "execution_count": 16,
     "metadata": {},
     "output_type": "execute_result"
    }
   ],
   "source": [
    "metrics.ndcg_k(ranked_targets, 10)"
   ]
  },
  {
   "cell_type": "code",
   "execution_count": 17,
   "metadata": {},
   "outputs": [
    {
     "data": {
      "text/plain": [
       "0.5558109581255387"
      ]
     },
     "execution_count": 17,
     "metadata": {},
     "output_type": "execute_result"
    }
   ],
   "source": [
    "metrics.ndcg_k(ranked_targets)"
   ]
  },
  {
   "cell_type": "code",
   "execution_count": 18,
   "metadata": {},
   "outputs": [
    {
     "data": {
      "text/plain": [
       "0.18225424462803755"
      ]
     },
     "execution_count": 18,
     "metadata": {},
     "output_type": "execute_result"
    }
   ],
   "source": [
    "metrics.map_k(ranked_targets)"
   ]
  },
  {
   "cell_type": "code",
   "execution_count": 19,
   "metadata": {},
   "outputs": [
    {
     "data": {
      "text/plain": [
       "5.7272727272727275"
      ]
     },
     "execution_count": 19,
     "metadata": {},
     "output_type": "execute_result"
    }
   ],
   "source": [
    "metrics.mrr(ranked_targets)"
   ]
  }
 ],
 "metadata": {
  "kernelspec": {
   "display_name": "Python 3",
   "language": "python",
   "name": "python3"
  },
  "language_info": {
   "codemirror_mode": {
    "name": "ipython",
    "version": 3
   },
   "file_extension": ".py",
   "mimetype": "text/x-python",
   "name": "python",
   "nbconvert_exporter": "python",
   "pygments_lexer": "ipython3",
   "version": "3.7.4"
  }
 },
 "nbformat": 4,
 "nbformat_minor": 2
}
